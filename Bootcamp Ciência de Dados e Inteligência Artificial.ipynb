{
 "cells": [
  {
   "cell_type": "markdown",
   "id": "fe0ed362-e06f-41b5-b556-e7fe1bb88974",
   "metadata": {},
   "source": [
    "# Introdução"
   ]
  },
  {
   "cell_type": "markdown",
   "id": "c7222c5f-2b52-43e9-9b2d-0dbe45a35bb4",
   "metadata": {},
   "source": [
    "No contexto da indústria moderna, a manutenção eficiente de equipamentos é crucial para garantir a produtividade, reduzir custos e evitar paradas inesperadas na produção. Tradicionalmente, a manutenção é realizada de forma reativa ou preventiva, mas essas abordagens podem resultar em desperdício de recursos ou falhas inesperadas.\n",
    "\n",
    "Com o avanço da Internet das Coisas (IoT) e da análise de dados, tornou-se possível coletar informações detalhadas de sensores instalados em máquinas, permitindo o desenvolvimento de sistemas inteligentes de manutenção preditiva. Esses sistemas utilizam algoritmos de aprendizado de máquina para analisar dados históricos e identificar padrões que precedem falhas, possibilitando intervenções mais assertivas e eficientes.\n",
    "\n",
    " ## Objetivo principal:\n",
    " \n",
    " Criar um sistema inteligente capaz de prever falhas em máquinas a partir de dados IoT e identificar o tipo de defeito.\n",
    "    \n",
    "- **Entradas:**\n",
    "\n",
    "  - Medições de 8 atributos sensorizados de cada máquina.\n",
    "    \n",
    "- **Saídas esperadas:**\n",
    "    \n",
    "    - Classe do defeito (uma das 5 possíveis).\n",
    "        \n",
    "    - Probabilidade associada à previsão.\n",
    "        \n",
    "    - Relatórios e visualizações de insights operacionais e falhas."
   ]
  },
  {
   "cell_type": "markdown",
   "id": "0c8b94d9-7c9f-4cb8-af48-629633b5ec49",
   "metadata": {},
   "source": [
    "## Descrição dos Dados \n"
   ]
  },
  {
   "cell_type": "markdown",
   "id": "0aceb821-1dd5-4f4e-bbc8-e090df080c12",
   "metadata": {},
   "source": [
    "\n",
    "|     | Campo                           | Descrição                                                                                 |\n",
    "| --- | ------------------------------- | ----------------------------------------------------------------------------------------- |\n",
    "| 0   | id                              | Identificador das amostras do banco.                                                      |\n",
    "| 1   | id_produto                      | Identificador único do produto. Combinação da variável Tipo e um número de identificação. |\n",
    "| 2   | tipo                            | Tipo de produto/máquina (L/M/H).                                                          |\n",
    "| 3   | temperatura_ar                  | Temperatura do ar no ambiente (K).                                                        |\n",
    "| 4   | temperatura_processo            | Temperatura do processo (K).                                                              |\n",
    "| 5   | umidade_relativa                | Umidade relativa do ar (%).                                                               |\n",
    "| 6   | velocidade_rotacional           | Velocidade rotacional da máquina em rotações por minutos (RPM).                           |\n",
    "| 7   | torque                          | Torque da máquina em Nm.                                                                  |\n",
    "| 8   | desgaste_da_ferramenta          | Duração do uso da ferramenta em minutos.                                                  |\n",
    "| 9   | falha_maquina                   | Indica se houve falha na máquina (1) ou não (0).                                          |\n",
    "| 10  | FDF (Falha Desgaste Ferramenta) | Indica se houve falha por desgaste da ferramenta (1) ou não (0).                          |\n",
    "| 11  | FDC (Falha Dissipacao Calor)    | Indica se houve falha por dissipação de calor (1) ou não (0).                             |\n",
    "| 12  | FP (Falha Potencia)             | Indica se houve falha por potência (1) ou não (0).                                        |\n",
    "| 13  | FTE (Falha Tensao Excessiva)    | Indica se houve falha por tensão excessiva (1) ou não (0).                                |\n",
    "| 14  | FA (Falha Aleatoria)            | Indica se houve falha aleatória (1) ou não (0).                                           |\n"
   ]
  },
  {
   "cell_type": "markdown",
   "id": "749afba1-488e-4caa-9adc-3cf401ff06e2",
   "metadata": {},
   "source": [
    "# Exploratory Data Analysis - EDA (Análise Exploratória de Dados)"
   ]
  },
  {
   "cell_type": "code",
   "execution_count": 1,
   "id": "8abfe95a-f688-444d-a53c-141df4265665",
   "metadata": {},
   "outputs": [],
   "source": [
    "import pandas as pd "
   ]
  },
  {
   "cell_type": "code",
   "execution_count": 2,
   "id": "c51acfb4-699e-45b1-9acc-0fb8cb3351b8",
   "metadata": {},
   "outputs": [
    {
     "data": {
      "text/html": [
       "<div>\n",
       "<style scoped>\n",
       "    .dataframe tbody tr th:only-of-type {\n",
       "        vertical-align: middle;\n",
       "    }\n",
       "\n",
       "    .dataframe tbody tr th {\n",
       "        vertical-align: top;\n",
       "    }\n",
       "\n",
       "    .dataframe thead th {\n",
       "        text-align: right;\n",
       "    }\n",
       "</style>\n",
       "<table border=\"1\" class=\"dataframe\">\n",
       "  <thead>\n",
       "    <tr style=\"text-align: right;\">\n",
       "      <th></th>\n",
       "      <th>id_produto</th>\n",
       "      <th>tipo</th>\n",
       "      <th>temperatura_ar</th>\n",
       "      <th>temperatura_processo</th>\n",
       "      <th>umidade_relativa</th>\n",
       "      <th>velocidade_rotacional</th>\n",
       "      <th>torque</th>\n",
       "      <th>desgaste_da_ferramenta</th>\n",
       "      <th>falha_maquina</th>\n",
       "      <th>FDF (Falha Desgaste Ferramenta)</th>\n",
       "      <th>FDC (Falha Dissipacao Calor)</th>\n",
       "      <th>FP (Falha Potencia)</th>\n",
       "      <th>FTE (Falha Tensao Excessiva)</th>\n",
       "      <th>FA (Falha Aleatoria)</th>\n",
       "    </tr>\n",
       "    <tr>\n",
       "      <th>id</th>\n",
       "      <th></th>\n",
       "      <th></th>\n",
       "      <th></th>\n",
       "      <th></th>\n",
       "      <th></th>\n",
       "      <th></th>\n",
       "      <th></th>\n",
       "      <th></th>\n",
       "      <th></th>\n",
       "      <th></th>\n",
       "      <th></th>\n",
       "      <th></th>\n",
       "      <th></th>\n",
       "      <th></th>\n",
       "    </tr>\n",
       "  </thead>\n",
       "  <tbody>\n",
       "    <tr>\n",
       "      <th>0</th>\n",
       "      <td>L56434</td>\n",
       "      <td>L</td>\n",
       "      <td>298.3</td>\n",
       "      <td>309.1</td>\n",
       "      <td>90.0</td>\n",
       "      <td>1616.0</td>\n",
       "      <td>31.1</td>\n",
       "      <td>195.0</td>\n",
       "      <td>não</td>\n",
       "      <td>False</td>\n",
       "      <td>False</td>\n",
       "      <td>Não</td>\n",
       "      <td>False</td>\n",
       "      <td>Não</td>\n",
       "    </tr>\n",
       "    <tr>\n",
       "      <th>1</th>\n",
       "      <td>L48741</td>\n",
       "      <td>L</td>\n",
       "      <td>298.2</td>\n",
       "      <td>308.4</td>\n",
       "      <td>90.0</td>\n",
       "      <td>1388.0</td>\n",
       "      <td>53.8</td>\n",
       "      <td>137.0</td>\n",
       "      <td>Não</td>\n",
       "      <td>False</td>\n",
       "      <td>False</td>\n",
       "      <td>Não</td>\n",
       "      <td>False</td>\n",
       "      <td>Não</td>\n",
       "    </tr>\n",
       "    <tr>\n",
       "      <th>2</th>\n",
       "      <td>L48850</td>\n",
       "      <td>L</td>\n",
       "      <td>298.2</td>\n",
       "      <td>307.8</td>\n",
       "      <td>90.0</td>\n",
       "      <td>1528.0</td>\n",
       "      <td>31.1</td>\n",
       "      <td>NaN</td>\n",
       "      <td>Não</td>\n",
       "      <td>N</td>\n",
       "      <td>False</td>\n",
       "      <td>Não</td>\n",
       "      <td>False</td>\n",
       "      <td>Não</td>\n",
       "    </tr>\n",
       "    <tr>\n",
       "      <th>3</th>\n",
       "      <td>M20947</td>\n",
       "      <td>M</td>\n",
       "      <td>300.9</td>\n",
       "      <td>310.8</td>\n",
       "      <td>90.0</td>\n",
       "      <td>1599.0</td>\n",
       "      <td>33.0</td>\n",
       "      <td>7.0</td>\n",
       "      <td>não</td>\n",
       "      <td>False</td>\n",
       "      <td>False</td>\n",
       "      <td>Não</td>\n",
       "      <td>False</td>\n",
       "      <td>não</td>\n",
       "    </tr>\n",
       "    <tr>\n",
       "      <th>4</th>\n",
       "      <td>L53849</td>\n",
       "      <td>L</td>\n",
       "      <td>-36.0</td>\n",
       "      <td>310.5</td>\n",
       "      <td>90.0</td>\n",
       "      <td>1571.0</td>\n",
       "      <td>33.9</td>\n",
       "      <td>NaN</td>\n",
       "      <td>não</td>\n",
       "      <td>N</td>\n",
       "      <td>False</td>\n",
       "      <td>não</td>\n",
       "      <td>False</td>\n",
       "      <td>Não</td>\n",
       "    </tr>\n",
       "  </tbody>\n",
       "</table>\n",
       "</div>"
      ],
      "text/plain": [
       "   id_produto tipo  temperatura_ar  temperatura_processo  umidade_relativa  \\\n",
       "id                                                                           \n",
       "0      L56434    L           298.3                 309.1              90.0   \n",
       "1      L48741    L           298.2                 308.4              90.0   \n",
       "2      L48850    L           298.2                 307.8              90.0   \n",
       "3      M20947    M           300.9                 310.8              90.0   \n",
       "4      L53849    L           -36.0                 310.5              90.0   \n",
       "\n",
       "    velocidade_rotacional  torque  desgaste_da_ferramenta falha_maquina  \\\n",
       "id                                                                        \n",
       "0                  1616.0    31.1                   195.0           não   \n",
       "1                  1388.0    53.8                   137.0           Não   \n",
       "2                  1528.0    31.1                     NaN           Não   \n",
       "3                  1599.0    33.0                     7.0           não   \n",
       "4                  1571.0    33.9                     NaN           não   \n",
       "\n",
       "   FDF (Falha Desgaste Ferramenta) FDC (Falha Dissipacao Calor)  \\\n",
       "id                                                                \n",
       "0                            False                        False   \n",
       "1                            False                        False   \n",
       "2                                N                        False   \n",
       "3                            False                        False   \n",
       "4                                N                        False   \n",
       "\n",
       "   FP (Falha Potencia)  FTE (Falha Tensao Excessiva) FA (Falha Aleatoria)  \n",
       "id                                                                         \n",
       "0                  Não                         False                  Não  \n",
       "1                  Não                         False                  Não  \n",
       "2                  Não                         False                  Não  \n",
       "3                  Não                         False                  não  \n",
       "4                  não                         False                  Não  "
      ]
     },
     "execution_count": 2,
     "metadata": {},
     "output_type": "execute_result"
    }
   ],
   "source": [
    "df = pd.read_csv('dataset/bootcamp_train.csv', index_col=0)\n",
    "df.head()"
   ]
  },
  {
   "cell_type": "code",
   "execution_count": 3,
   "id": "ce39a936-8b68-40b8-959c-305a7d26f3e8",
   "metadata": {},
   "outputs": [
    {
     "data": {
      "text/plain": [
       "Index(['id_produto', 'tipo', 'temperatura_ar', 'temperatura_processo',\n",
       "       'umidade_relativa', 'velocidade_rotacional', 'torque',\n",
       "       'desgaste_da_ferramenta', 'falha_maquina',\n",
       "       'FDF (Falha Desgaste Ferramenta)', 'FDC (Falha Dissipacao Calor)',\n",
       "       'FP (Falha Potencia)', 'FTE (Falha Tensao Excessiva)',\n",
       "       'FA (Falha Aleatoria)'],\n",
       "      dtype='object')"
      ]
     },
     "execution_count": 3,
     "metadata": {},
     "output_type": "execute_result"
    }
   ],
   "source": [
    "df.columns"
   ]
  },
  {
   "cell_type": "code",
   "execution_count": 4,
   "id": "f1074a35-3710-4bc8-834c-19588712b6ab",
   "metadata": {},
   "outputs": [
    {
     "data": {
      "text/plain": [
       "(35260, 14)"
      ]
     },
     "execution_count": 4,
     "metadata": {},
     "output_type": "execute_result"
    }
   ],
   "source": [
    "df.shape"
   ]
  },
  {
   "cell_type": "code",
   "execution_count": null,
   "id": "925bf93b-93c9-4982-88fb-9f008326b9a3",
   "metadata": {},
   "outputs": [],
   "source": []
  }
 ],
 "metadata": {
  "kernelspec": {
   "display_name": "Python 3 (ipykernel)",
   "language": "python",
   "name": "python3"
  },
  "language_info": {
   "codemirror_mode": {
    "name": "ipython",
    "version": 3
   },
   "file_extension": ".py",
   "mimetype": "text/x-python",
   "name": "python",
   "nbconvert_exporter": "python",
   "pygments_lexer": "ipython3",
   "version": "3.10.0"
  }
 },
 "nbformat": 4,
 "nbformat_minor": 5
}
