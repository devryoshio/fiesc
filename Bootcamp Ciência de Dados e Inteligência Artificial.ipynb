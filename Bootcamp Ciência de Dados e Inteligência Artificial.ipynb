{
 "cells": [
  {
   "cell_type": "markdown",
   "id": "fe0ed362-e06f-41b5-b556-e7fe1bb88974",
   "metadata": {},
   "source": [
    "# Introdução"
   ]
  },
  {
   "cell_type": "markdown",
   "id": "c7222c5f-2b52-43e9-9b2d-0dbe45a35bb4",
   "metadata": {},
   "source": [
    "No contexto da indústria moderna, a manutenção eficiente de equipamentos é crucial para garantir a produtividade, reduzir custos e evitar paradas inesperadas na produção. Tradicionalmente, a manutenção é realizada de forma reativa ou preventiva, mas essas abordagens podem resultar em desperdício de recursos ou falhas inesperadas.\n",
    "\n",
    "Com o avanço da Internet das Coisas (IoT) e da análise de dados, tornou-se possível coletar informações detalhadas de sensores instalados em máquinas, permitindo o desenvolvimento de sistemas inteligentes de manutenção preditiva. Esses sistemas utilizam algoritmos de aprendizado de máquina para analisar dados históricos e identificar padrões que precedem falhas, possibilitando intervenções mais assertivas e eficientes.\n",
    "\n",
    " ## Objetivo principal:\n",
    " \n",
    " Criar um sistema inteligente capaz de prever falhas em máquinas a partir de dados IoT e identificar o tipo de defeito.\n",
    "    \n",
    "- **Entradas:**\n",
    "\n",
    "  - Medições de 8 atributos sensorizados de cada máquina.\n",
    "    \n",
    "- **Saídas esperadas:**\n",
    "    \n",
    "    - Classe do defeito (uma das 5 possíveis).\n",
    "        \n",
    "    - Probabilidade associada à previsão.\n",
    "        \n",
    "    - Relatórios e visualizações de insights operacionais e falhas."
   ]
  },
  {
   "cell_type": "markdown",
   "id": "0c8b94d9-7c9f-4cb8-af48-629633b5ec49",
   "metadata": {},
   "source": [
    "## Descrição dos Dados \n"
   ]
  },
  {
   "cell_type": "markdown",
   "id": "0aceb821-1dd5-4f4e-bbc8-e090df080c12",
   "metadata": {},
   "source": [
    "\n",
    "|     | Campo                           | Descrição                                                                                 |\n",
    "| --- | ------------------------------- | ----------------------------------------------------------------------------------------- |\n",
    "| 0   | id                              | Identificador das amostras do banco.                                                      |\n",
    "| 1   | id_produto                      | Identificador único do produto. Combinação da variável Tipo e um número de identificação. |\n",
    "| 2   | tipo                            | Tipo de produto/máquina (L/M/H).                                                          |\n",
    "| 3   | temperatura_ar                  | Temperatura do ar no ambiente (K).                                                        |\n",
    "| 4   | temperatura_processo            | Temperatura do processo (K).                                                              |\n",
    "| 5   | umidade_relativa                | Umidade relativa do ar (%).                                                               |\n",
    "| 6   | velocidade_rotacional           | Velocidade rotacional da máquina em rotações por minutos (RPM).                           |\n",
    "| 7   | torque                          | Torque da máquina em Nm.                                                                  |\n",
    "| 8   | desgaste_da_ferramenta          | Duração do uso da ferramenta em minutos.                                                  |\n",
    "| 9   | falha_maquina                   | Indica se houve falha na máquina (1) ou não (0).                                          |\n",
    "| 10  | FDF (Falha Desgaste Ferramenta) | Indica se houve falha por desgaste da ferramenta (1) ou não (0).                          |\n",
    "| 11  | FDC (Falha Dissipacao Calor)    | Indica se houve falha por dissipação de calor (1) ou não (0).                             |\n",
    "| 12  | FP (Falha Potencia)             | Indica se houve falha por potência (1) ou não (0).                                        |\n",
    "| 13  | FTE (Falha Tensao Excessiva)    | Indica se houve falha por tensão excessiva (1) ou não (0).                                |\n",
    "| 14  | FA (Falha Aleatoria)            | Indica se houve falha aleatória (1) ou não (0).                                           |\n"
   ]
  },
  {
   "cell_type": "markdown",
   "id": "52a230db-5bd2-4fde-bf03-8fc50cf1354c",
   "metadata": {},
   "source": [
    "## Configuração "
   ]
  },
  {
   "cell_type": "code",
   "execution_count": null,
   "id": "d1dda7aa-746e-43e6-a815-4d74fed234fd",
   "metadata": {},
   "outputs": [
    {
     "name": "stdout",
     "output_type": "stream",
     "text": [
      "Collecting pandas\n",
      "  Downloading pandas-2.3.2-cp311-cp311-manylinux_2_17_x86_64.manylinux2014_x86_64.whl (12.4 MB)\n",
      "\u001b[2K     \u001b[38;2;114;156;31m━━━━━━━━━━━━━━━━━━━━━━━━━━━━━━━━━━━━━━━━\u001b[0m \u001b[32m12.4/12.4 MB\u001b[0m \u001b[31m5.0 MB/s\u001b[0m eta \u001b[36m0:00:00\u001b[0mm eta \u001b[36m0:00:01\u001b[0m0:01\u001b[0m:01\u001b[0m\n",
      "\u001b[?25hCollecting numpy>=1.23.2\n",
      "  Downloading numpy-2.3.2-cp311-cp311-manylinux_2_27_x86_64.manylinux_2_28_x86_64.whl (16.9 MB)\n",
      "\u001b[2K     \u001b[38;2;249;38;114m━━━━━━━━━━━━━━━━━━━━━━━━━━━\u001b[0m\u001b[38;5;237m╺\u001b[0m\u001b[38;5;237m━━━━━━━━━━━━\u001b[0m \u001b[32m11.5/16.9 MB\u001b[0m \u001b[31m5.2 MB/s\u001b[0m eta \u001b[36m0:00:02\u001b[0m:02\u001b[0m"
     ]
    }
   ],
   "source": [
    "!pip install pandas"
   ]
  },
  {
   "cell_type": "code",
   "execution_count": 2,
   "id": "8abfe95a-f688-444d-a53c-141df4265665",
   "metadata": {},
   "outputs": [],
   "source": [
    "import pandas as pd "
   ]
  },
  {
   "cell_type": "markdown",
   "id": "749afba1-488e-4caa-9adc-3cf401ff06e2",
   "metadata": {},
   "source": [
    "# Exploratory Data Analysis - EDA (Análise Exploratória de Dados)"
   ]
  },
  {
   "cell_type": "markdown",
   "id": "97f2642f-dbe4-4444-9995-3971f672cf34",
   "metadata": {},
   "source": [
    "## Carregando os dados "
   ]
  },
  {
   "cell_type": "code",
   "execution_count": 3,
   "id": "c51acfb4-699e-45b1-9acc-0fb8cb3351b8",
   "metadata": {},
   "outputs": [
    {
     "data": {
      "text/html": [
       "<div>\n",
       "<style scoped>\n",
       "    .dataframe tbody tr th:only-of-type {\n",
       "        vertical-align: middle;\n",
       "    }\n",
       "\n",
       "    .dataframe tbody tr th {\n",
       "        vertical-align: top;\n",
       "    }\n",
       "\n",
       "    .dataframe thead th {\n",
       "        text-align: right;\n",
       "    }\n",
       "</style>\n",
       "<table border=\"1\" class=\"dataframe\">\n",
       "  <thead>\n",
       "    <tr style=\"text-align: right;\">\n",
       "      <th></th>\n",
       "      <th>id_produto</th>\n",
       "      <th>tipo</th>\n",
       "      <th>temperatura_ar</th>\n",
       "      <th>temperatura_processo</th>\n",
       "      <th>umidade_relativa</th>\n",
       "      <th>velocidade_rotacional</th>\n",
       "      <th>torque</th>\n",
       "      <th>desgaste_da_ferramenta</th>\n",
       "      <th>falha_maquina</th>\n",
       "      <th>FDF (Falha Desgaste Ferramenta)</th>\n",
       "      <th>FDC (Falha Dissipacao Calor)</th>\n",
       "      <th>FP (Falha Potencia)</th>\n",
       "      <th>FTE (Falha Tensao Excessiva)</th>\n",
       "      <th>FA (Falha Aleatoria)</th>\n",
       "    </tr>\n",
       "    <tr>\n",
       "      <th>id</th>\n",
       "      <th></th>\n",
       "      <th></th>\n",
       "      <th></th>\n",
       "      <th></th>\n",
       "      <th></th>\n",
       "      <th></th>\n",
       "      <th></th>\n",
       "      <th></th>\n",
       "      <th></th>\n",
       "      <th></th>\n",
       "      <th></th>\n",
       "      <th></th>\n",
       "      <th></th>\n",
       "      <th></th>\n",
       "    </tr>\n",
       "  </thead>\n",
       "  <tbody>\n",
       "    <tr>\n",
       "      <th>0</th>\n",
       "      <td>L56434</td>\n",
       "      <td>L</td>\n",
       "      <td>298.3</td>\n",
       "      <td>309.1</td>\n",
       "      <td>90.0</td>\n",
       "      <td>1616.0</td>\n",
       "      <td>31.1</td>\n",
       "      <td>195.0</td>\n",
       "      <td>não</td>\n",
       "      <td>False</td>\n",
       "      <td>False</td>\n",
       "      <td>Não</td>\n",
       "      <td>False</td>\n",
       "      <td>Não</td>\n",
       "    </tr>\n",
       "    <tr>\n",
       "      <th>1</th>\n",
       "      <td>L48741</td>\n",
       "      <td>L</td>\n",
       "      <td>298.2</td>\n",
       "      <td>308.4</td>\n",
       "      <td>90.0</td>\n",
       "      <td>1388.0</td>\n",
       "      <td>53.8</td>\n",
       "      <td>137.0</td>\n",
       "      <td>Não</td>\n",
       "      <td>False</td>\n",
       "      <td>False</td>\n",
       "      <td>Não</td>\n",
       "      <td>False</td>\n",
       "      <td>Não</td>\n",
       "    </tr>\n",
       "    <tr>\n",
       "      <th>2</th>\n",
       "      <td>L48850</td>\n",
       "      <td>L</td>\n",
       "      <td>298.2</td>\n",
       "      <td>307.8</td>\n",
       "      <td>90.0</td>\n",
       "      <td>1528.0</td>\n",
       "      <td>31.1</td>\n",
       "      <td>NaN</td>\n",
       "      <td>Não</td>\n",
       "      <td>N</td>\n",
       "      <td>False</td>\n",
       "      <td>Não</td>\n",
       "      <td>False</td>\n",
       "      <td>Não</td>\n",
       "    </tr>\n",
       "    <tr>\n",
       "      <th>3</th>\n",
       "      <td>M20947</td>\n",
       "      <td>M</td>\n",
       "      <td>300.9</td>\n",
       "      <td>310.8</td>\n",
       "      <td>90.0</td>\n",
       "      <td>1599.0</td>\n",
       "      <td>33.0</td>\n",
       "      <td>7.0</td>\n",
       "      <td>não</td>\n",
       "      <td>False</td>\n",
       "      <td>False</td>\n",
       "      <td>Não</td>\n",
       "      <td>False</td>\n",
       "      <td>não</td>\n",
       "    </tr>\n",
       "    <tr>\n",
       "      <th>4</th>\n",
       "      <td>L53849</td>\n",
       "      <td>L</td>\n",
       "      <td>-36.0</td>\n",
       "      <td>310.5</td>\n",
       "      <td>90.0</td>\n",
       "      <td>1571.0</td>\n",
       "      <td>33.9</td>\n",
       "      <td>NaN</td>\n",
       "      <td>não</td>\n",
       "      <td>N</td>\n",
       "      <td>False</td>\n",
       "      <td>não</td>\n",
       "      <td>False</td>\n",
       "      <td>Não</td>\n",
       "    </tr>\n",
       "  </tbody>\n",
       "</table>\n",
       "</div>"
      ],
      "text/plain": [
       "   id_produto tipo  temperatura_ar  temperatura_processo  umidade_relativa  \\\n",
       "id                                                                           \n",
       "0      L56434    L           298.3                 309.1              90.0   \n",
       "1      L48741    L           298.2                 308.4              90.0   \n",
       "2      L48850    L           298.2                 307.8              90.0   \n",
       "3      M20947    M           300.9                 310.8              90.0   \n",
       "4      L53849    L           -36.0                 310.5              90.0   \n",
       "\n",
       "    velocidade_rotacional  torque  desgaste_da_ferramenta falha_maquina  \\\n",
       "id                                                                        \n",
       "0                  1616.0    31.1                   195.0           não   \n",
       "1                  1388.0    53.8                   137.0           Não   \n",
       "2                  1528.0    31.1                     NaN           Não   \n",
       "3                  1599.0    33.0                     7.0           não   \n",
       "4                  1571.0    33.9                     NaN           não   \n",
       "\n",
       "   FDF (Falha Desgaste Ferramenta) FDC (Falha Dissipacao Calor)  \\\n",
       "id                                                                \n",
       "0                            False                        False   \n",
       "1                            False                        False   \n",
       "2                                N                        False   \n",
       "3                            False                        False   \n",
       "4                                N                        False   \n",
       "\n",
       "   FP (Falha Potencia)  FTE (Falha Tensao Excessiva) FA (Falha Aleatoria)  \n",
       "id                                                                         \n",
       "0                  Não                         False                  Não  \n",
       "1                  Não                         False                  Não  \n",
       "2                  Não                         False                  Não  \n",
       "3                  Não                         False                  não  \n",
       "4                  não                         False                  Não  "
      ]
     },
     "execution_count": 3,
     "metadata": {},
     "output_type": "execute_result"
    }
   ],
   "source": [
    "df = pd.read_csv('dataset/bootcamp_train.csv', index_col=0)"
   ]
  },
  {
   "cell_type": "markdown",
   "id": "a0e447af-a8ac-434c-86a8-9bb50b6414ea",
   "metadata": {},
   "source": [
    "## Pré visualização\n",
    "\n",
    "Objetivo é visualizar como todo."
   ]
  },
  {
   "cell_type": "code",
   "execution_count": 23,
   "id": "61d16883-65ca-42ba-8abd-e7159f2eacd0",
   "metadata": {},
   "outputs": [
    {
     "data": {
      "text/html": [
       "<div>\n",
       "<style scoped>\n",
       "    .dataframe tbody tr th:only-of-type {\n",
       "        vertical-align: middle;\n",
       "    }\n",
       "\n",
       "    .dataframe tbody tr th {\n",
       "        vertical-align: top;\n",
       "    }\n",
       "\n",
       "    .dataframe thead th {\n",
       "        text-align: right;\n",
       "    }\n",
       "</style>\n",
       "<table border=\"1\" class=\"dataframe\">\n",
       "  <thead>\n",
       "    <tr style=\"text-align: right;\">\n",
       "      <th></th>\n",
       "      <th>id_produto</th>\n",
       "      <th>tipo</th>\n",
       "      <th>temperatura_ar</th>\n",
       "      <th>temperatura_processo</th>\n",
       "      <th>umidade_relativa</th>\n",
       "      <th>velocidade_rotacional</th>\n",
       "      <th>torque</th>\n",
       "      <th>desgaste_da_ferramenta</th>\n",
       "      <th>falha_maquina</th>\n",
       "      <th>FDF (Falha Desgaste Ferramenta)</th>\n",
       "      <th>FDC (Falha Dissipacao Calor)</th>\n",
       "      <th>FP (Falha Potencia)</th>\n",
       "      <th>FTE (Falha Tensao Excessiva)</th>\n",
       "      <th>FA (Falha Aleatoria)</th>\n",
       "    </tr>\n",
       "    <tr>\n",
       "      <th>id</th>\n",
       "      <th></th>\n",
       "      <th></th>\n",
       "      <th></th>\n",
       "      <th></th>\n",
       "      <th></th>\n",
       "      <th></th>\n",
       "      <th></th>\n",
       "      <th></th>\n",
       "      <th></th>\n",
       "      <th></th>\n",
       "      <th></th>\n",
       "      <th></th>\n",
       "      <th></th>\n",
       "      <th></th>\n",
       "    </tr>\n",
       "  </thead>\n",
       "  <tbody>\n",
       "    <tr>\n",
       "      <th>0</th>\n",
       "      <td>L56434</td>\n",
       "      <td>L</td>\n",
       "      <td>298.3</td>\n",
       "      <td>309.1</td>\n",
       "      <td>90.0</td>\n",
       "      <td>1616.0</td>\n",
       "      <td>31.1</td>\n",
       "      <td>195.0</td>\n",
       "      <td>não</td>\n",
       "      <td>False</td>\n",
       "      <td>False</td>\n",
       "      <td>Não</td>\n",
       "      <td>False</td>\n",
       "      <td>Não</td>\n",
       "    </tr>\n",
       "    <tr>\n",
       "      <th>1</th>\n",
       "      <td>L48741</td>\n",
       "      <td>L</td>\n",
       "      <td>298.2</td>\n",
       "      <td>308.4</td>\n",
       "      <td>90.0</td>\n",
       "      <td>1388.0</td>\n",
       "      <td>53.8</td>\n",
       "      <td>137.0</td>\n",
       "      <td>Não</td>\n",
       "      <td>False</td>\n",
       "      <td>False</td>\n",
       "      <td>Não</td>\n",
       "      <td>False</td>\n",
       "      <td>Não</td>\n",
       "    </tr>\n",
       "    <tr>\n",
       "      <th>2</th>\n",
       "      <td>L48850</td>\n",
       "      <td>L</td>\n",
       "      <td>298.2</td>\n",
       "      <td>307.8</td>\n",
       "      <td>90.0</td>\n",
       "      <td>1528.0</td>\n",
       "      <td>31.1</td>\n",
       "      <td>NaN</td>\n",
       "      <td>Não</td>\n",
       "      <td>N</td>\n",
       "      <td>False</td>\n",
       "      <td>Não</td>\n",
       "      <td>False</td>\n",
       "      <td>Não</td>\n",
       "    </tr>\n",
       "    <tr>\n",
       "      <th>3</th>\n",
       "      <td>M20947</td>\n",
       "      <td>M</td>\n",
       "      <td>300.9</td>\n",
       "      <td>310.8</td>\n",
       "      <td>90.0</td>\n",
       "      <td>1599.0</td>\n",
       "      <td>33.0</td>\n",
       "      <td>7.0</td>\n",
       "      <td>não</td>\n",
       "      <td>False</td>\n",
       "      <td>False</td>\n",
       "      <td>Não</td>\n",
       "      <td>False</td>\n",
       "      <td>não</td>\n",
       "    </tr>\n",
       "    <tr>\n",
       "      <th>4</th>\n",
       "      <td>L53849</td>\n",
       "      <td>L</td>\n",
       "      <td>-36.0</td>\n",
       "      <td>310.5</td>\n",
       "      <td>90.0</td>\n",
       "      <td>1571.0</td>\n",
       "      <td>33.9</td>\n",
       "      <td>NaN</td>\n",
       "      <td>não</td>\n",
       "      <td>N</td>\n",
       "      <td>False</td>\n",
       "      <td>não</td>\n",
       "      <td>False</td>\n",
       "      <td>Não</td>\n",
       "    </tr>\n",
       "  </tbody>\n",
       "</table>\n",
       "</div>"
      ],
      "text/plain": [
       "   id_produto tipo  temperatura_ar  temperatura_processo  umidade_relativa  \\\n",
       "id                                                                           \n",
       "0      L56434    L           298.3                 309.1              90.0   \n",
       "1      L48741    L           298.2                 308.4              90.0   \n",
       "2      L48850    L           298.2                 307.8              90.0   \n",
       "3      M20947    M           300.9                 310.8              90.0   \n",
       "4      L53849    L           -36.0                 310.5              90.0   \n",
       "\n",
       "    velocidade_rotacional  torque  desgaste_da_ferramenta falha_maquina  \\\n",
       "id                                                                        \n",
       "0                  1616.0    31.1                   195.0           não   \n",
       "1                  1388.0    53.8                   137.0           Não   \n",
       "2                  1528.0    31.1                     NaN           Não   \n",
       "3                  1599.0    33.0                     7.0           não   \n",
       "4                  1571.0    33.9                     NaN           não   \n",
       "\n",
       "   FDF (Falha Desgaste Ferramenta) FDC (Falha Dissipacao Calor)  \\\n",
       "id                                                                \n",
       "0                            False                        False   \n",
       "1                            False                        False   \n",
       "2                                N                        False   \n",
       "3                            False                        False   \n",
       "4                                N                        False   \n",
       "\n",
       "   FP (Falha Potencia)  FTE (Falha Tensao Excessiva) FA (Falha Aleatoria)  \n",
       "id                                                                         \n",
       "0                  Não                         False                  Não  \n",
       "1                  Não                         False                  Não  \n",
       "2                  Não                         False                  Não  \n",
       "3                  Não                         False                  não  \n",
       "4                  não                         False                  Não  "
      ]
     },
     "execution_count": 23,
     "metadata": {},
     "output_type": "execute_result"
    }
   ],
   "source": [
    "df.head()"
   ]
  },
  {
   "cell_type": "code",
   "execution_count": 4,
   "id": "ce39a936-8b68-40b8-959c-305a7d26f3e8",
   "metadata": {},
   "outputs": [
    {
     "data": {
      "text/plain": [
       "Index(['id_produto', 'tipo', 'temperatura_ar', 'temperatura_processo',\n",
       "       'umidade_relativa', 'velocidade_rotacional', 'torque',\n",
       "       'desgaste_da_ferramenta', 'falha_maquina',\n",
       "       'FDF (Falha Desgaste Ferramenta)', 'FDC (Falha Dissipacao Calor)',\n",
       "       'FP (Falha Potencia)', 'FTE (Falha Tensao Excessiva)',\n",
       "       'FA (Falha Aleatoria)'],\n",
       "      dtype='object')"
      ]
     },
     "execution_count": 4,
     "metadata": {},
     "output_type": "execute_result"
    }
   ],
   "source": [
    "df.columns"
   ]
  },
  {
   "cell_type": "code",
   "execution_count": 5,
   "id": "f1074a35-3710-4bc8-834c-19588712b6ab",
   "metadata": {},
   "outputs": [
    {
     "data": {
      "text/plain": [
       "(35260, 14)"
      ]
     },
     "execution_count": 5,
     "metadata": {},
     "output_type": "execute_result"
    }
   ],
   "source": [
    "df.shape"
   ]
  },
  {
   "cell_type": "code",
   "execution_count": 6,
   "id": "925bf93b-93c9-4982-88fb-9f008326b9a3",
   "metadata": {},
   "outputs": [
    {
     "name": "stdout",
     "output_type": "stream",
     "text": [
      "<class 'pandas.core.frame.DataFrame'>\n",
      "Index: 35260 entries, 0 to 35259\n",
      "Data columns (total 14 columns):\n",
      " #   Column                           Non-Null Count  Dtype  \n",
      "---  ------                           --------------  -----  \n",
      " 0   id_produto                       35260 non-null  object \n",
      " 1   tipo                             35260 non-null  object \n",
      " 2   temperatura_ar                   34644 non-null  float64\n",
      " 3   temperatura_processo             34661 non-null  float64\n",
      " 4   umidade_relativa                 35260 non-null  float64\n",
      " 5   velocidade_rotacional            34509 non-null  float64\n",
      " 6   torque                           34637 non-null  float64\n",
      " 7   desgaste_da_ferramenta           34308 non-null  float64\n",
      " 8   falha_maquina                    35260 non-null  object \n",
      " 9   FDF (Falha Desgaste Ferramenta)  35260 non-null  object \n",
      " 10  FDC (Falha Dissipacao Calor)     35260 non-null  object \n",
      " 11  FP (Falha Potencia)              35260 non-null  object \n",
      " 12  FTE (Falha Tensao Excessiva)     35260 non-null  bool   \n",
      " 13  FA (Falha Aleatoria)             35260 non-null  object \n",
      "dtypes: bool(1), float64(6), object(7)\n",
      "memory usage: 3.8+ MB\n"
     ]
    }
   ],
   "source": [
    "df.info()"
   ]
  },
  {
   "cell_type": "code",
   "execution_count": 7,
   "id": "9ade0b3e-af54-4459-a5e5-f295e1b1b125",
   "metadata": {},
   "outputs": [
    {
     "data": {
      "text/html": [
       "<div>\n",
       "<style scoped>\n",
       "    .dataframe tbody tr th:only-of-type {\n",
       "        vertical-align: middle;\n",
       "    }\n",
       "\n",
       "    .dataframe tbody tr th {\n",
       "        vertical-align: top;\n",
       "    }\n",
       "\n",
       "    .dataframe thead th {\n",
       "        text-align: right;\n",
       "    }\n",
       "</style>\n",
       "<table border=\"1\" class=\"dataframe\">\n",
       "  <thead>\n",
       "    <tr style=\"text-align: right;\">\n",
       "      <th></th>\n",
       "      <th>temperatura_ar</th>\n",
       "      <th>temperatura_processo</th>\n",
       "      <th>umidade_relativa</th>\n",
       "      <th>velocidade_rotacional</th>\n",
       "      <th>torque</th>\n",
       "      <th>desgaste_da_ferramenta</th>\n",
       "    </tr>\n",
       "  </thead>\n",
       "  <tbody>\n",
       "    <tr>\n",
       "      <th>count</th>\n",
       "      <td>34644.000000</td>\n",
       "      <td>34661.000000</td>\n",
       "      <td>35260.000000</td>\n",
       "      <td>34509.000000</td>\n",
       "      <td>34637.000000</td>\n",
       "      <td>34308.000000</td>\n",
       "    </tr>\n",
       "    <tr>\n",
       "      <th>mean</th>\n",
       "      <td>269.535241</td>\n",
       "      <td>280.457676</td>\n",
       "      <td>89.997672</td>\n",
       "      <td>1380.194181</td>\n",
       "      <td>40.210357</td>\n",
       "      <td>74.373266</td>\n",
       "    </tr>\n",
       "    <tr>\n",
       "      <th>std</th>\n",
       "      <td>96.342224</td>\n",
       "      <td>96.943630</td>\n",
       "      <td>0.142191</td>\n",
       "      <td>494.098759</td>\n",
       "      <td>8.831626</td>\n",
       "      <td>110.411937</td>\n",
       "    </tr>\n",
       "    <tr>\n",
       "      <th>min</th>\n",
       "      <td>-36.000000</td>\n",
       "      <td>-38.000000</td>\n",
       "      <td>80.590429</td>\n",
       "      <td>-161.000000</td>\n",
       "      <td>3.800000</td>\n",
       "      <td>-202.000000</td>\n",
       "    </tr>\n",
       "    <tr>\n",
       "      <th>25%</th>\n",
       "      <td>297.900000</td>\n",
       "      <td>308.500000</td>\n",
       "      <td>90.000000</td>\n",
       "      <td>1408.000000</td>\n",
       "      <td>34.300000</td>\n",
       "      <td>28.000000</td>\n",
       "    </tr>\n",
       "    <tr>\n",
       "      <th>50%</th>\n",
       "      <td>299.600000</td>\n",
       "      <td>309.800000</td>\n",
       "      <td>90.000000</td>\n",
       "      <td>1483.000000</td>\n",
       "      <td>40.300000</td>\n",
       "      <td>94.000000</td>\n",
       "    </tr>\n",
       "    <tr>\n",
       "      <th>75%</th>\n",
       "      <td>301.100000</td>\n",
       "      <td>310.900000</td>\n",
       "      <td>90.000000</td>\n",
       "      <td>1574.000000</td>\n",
       "      <td>46.200000</td>\n",
       "      <td>155.000000</td>\n",
       "    </tr>\n",
       "    <tr>\n",
       "      <th>max</th>\n",
       "      <td>304.500000</td>\n",
       "      <td>313.800000</td>\n",
       "      <td>94.575256</td>\n",
       "      <td>2886.000000</td>\n",
       "      <td>76.600000</td>\n",
       "      <td>253.000000</td>\n",
       "    </tr>\n",
       "  </tbody>\n",
       "</table>\n",
       "</div>"
      ],
      "text/plain": [
       "       temperatura_ar  temperatura_processo  umidade_relativa  \\\n",
       "count    34644.000000          34661.000000      35260.000000   \n",
       "mean       269.535241            280.457676         89.997672   \n",
       "std         96.342224             96.943630          0.142191   \n",
       "min        -36.000000            -38.000000         80.590429   \n",
       "25%        297.900000            308.500000         90.000000   \n",
       "50%        299.600000            309.800000         90.000000   \n",
       "75%        301.100000            310.900000         90.000000   \n",
       "max        304.500000            313.800000         94.575256   \n",
       "\n",
       "       velocidade_rotacional        torque  desgaste_da_ferramenta  \n",
       "count           34509.000000  34637.000000            34308.000000  \n",
       "mean             1380.194181     40.210357               74.373266  \n",
       "std               494.098759      8.831626              110.411937  \n",
       "min              -161.000000      3.800000             -202.000000  \n",
       "25%              1408.000000     34.300000               28.000000  \n",
       "50%              1483.000000     40.300000               94.000000  \n",
       "75%              1574.000000     46.200000              155.000000  \n",
       "max              2886.000000     76.600000              253.000000  "
      ]
     },
     "execution_count": 7,
     "metadata": {},
     "output_type": "execute_result"
    }
   ],
   "source": [
    "df.describe()"
   ]
  },
  {
   "cell_type": "markdown",
   "id": "1eab5789-4dc3-4359-ace5-b9e5b17a18de",
   "metadata": {},
   "source": [
    "## Análisando dados faltantes "
   ]
  },
  {
   "cell_type": "code",
   "execution_count": 11,
   "id": "30bea989-2902-4ce1-804a-f72f498d4179",
   "metadata": {},
   "outputs": [
    {
     "name": "stdout",
     "output_type": "stream",
     "text": [
      "tem valores faltando: True\n"
     ]
    }
   ],
   "source": [
    "print(f\"tem valores faltando: {df.isna().any().any()}\") "
   ]
  },
  {
   "cell_type": "code",
   "execution_count": 34,
   "id": "68b74001-2e13-4d3c-af0f-ffadac609fa0",
   "metadata": {},
   "outputs": [
    {
     "name": "stdout",
     "output_type": "stream",
     "text": [
      "Valores faltante por coluna \n"
     ]
    },
    {
     "data": {
      "text/plain": [
       "id_produto                           0\n",
       "tipo                                 0\n",
       "temperatura_ar                     616\n",
       "temperatura_processo               599\n",
       "umidade_relativa                     0\n",
       "velocidade_rotacional              751\n",
       "torque                             623\n",
       "desgaste_da_ferramenta             952\n",
       "falha_maquina                        0\n",
       "FDF (Falha Desgaste Ferramenta)      0\n",
       "FDC (Falha Dissipacao Calor)         0\n",
       "FP (Falha Potencia)                  0\n",
       "FTE (Falha Tensao Excessiva)         0\n",
       "FA (Falha Aleatoria)                 0\n",
       "dtype: int64"
      ]
     },
     "execution_count": 34,
     "metadata": {},
     "output_type": "execute_result"
    }
   ],
   "source": [
    "print(\"Valores faltante por coluna \")\n",
    "df.isna().sum()"
   ]
  },
  {
   "cell_type": "code",
   "execution_count": 32,
   "id": "25eb0900-4f86-4179-aeeb-2d686ac65702",
   "metadata": {},
   "outputs": [
    {
     "name": "stdout",
     "output_type": "stream",
     "text": [
      "Valores faltante por coluna %\n",
      "id_produto                         0.00\n",
      "tipo                               0.00\n",
      "temperatura_ar                     1.75\n",
      "temperatura_processo               1.70\n",
      "umidade_relativa                   0.00\n",
      "velocidade_rotacional              2.13\n",
      "torque                             1.77\n",
      "desgaste_da_ferramenta             2.70\n",
      "falha_maquina                      0.00\n",
      "FDF (Falha Desgaste Ferramenta)    0.00\n",
      "FDC (Falha Dissipacao Calor)       0.00\n",
      "FP (Falha Potencia)                0.00\n",
      "FTE (Falha Tensao Excessiva)       0.00\n",
      "FA (Falha Aleatoria)               0.00\n",
      "dtype: float64\n"
     ]
    }
   ],
   "source": [
    "print(\"Valores faltante por coluna %\")\n",
    "percentual = df.isna().sum() / df.shape[0] * 100\n",
    "print(percentual.round(2))"
   ]
  },
  {
   "cell_type": "code",
   "execution_count": 27,
   "id": "8f89ac75-9f34-43d7-886a-7096305d8453",
   "metadata": {},
   "outputs": [
    {
     "name": "stdout",
     "output_type": "stream",
     "text": [
      "A representaividade dos dados faltantes: 9.65%\n"
     ]
    }
   ],
   "source": [
    "df_clean = df.dropna() \n",
    "print(f\"A representaividade dos dados faltantes: {(1 - df_clean.shape[0]/df.shape[0])*100:.2f}%\")"
   ]
  },
  {
   "cell_type": "markdown",
   "id": "977a2af9-0ee2-4872-8414-cfb80394470c",
   "metadata": {},
   "source": [
    "**Conclusão:** Como o valor é maior que **5%** não será possível eliminar diretamente. Não existe colunas que tem porcentagem significativo com valores faltante que possa ser eliminado. "
   ]
  },
  {
   "cell_type": "markdown",
   "id": "de168826-508b-4e5e-a970-85020ac7d08d",
   "metadata": {},
   "source": [
    "## Consistência de dados\n",
    "\n",
    "Objetivo é analisar **coluna por coluna** para verificar **ser não há contradições e fazer uma analise mais profunda** nos dados. "
   ]
  },
  {
   "cell_type": "markdown",
   "id": "a9548e7a-43f2-4dd0-97d6-73bdd054303f",
   "metadata": {},
   "source": [
    "### ID Produto "
   ]
  },
  {
   "cell_type": "code",
   "execution_count": 38,
   "id": "5f6b72db-c5a8-4d6f-bd03-55a732765617",
   "metadata": {},
   "outputs": [
    {
     "data": {
      "text/plain": [
       "id_produto\n",
       "L53255    31\n",
       "L53257    30\n",
       "L53271    28\n",
       "L55983    28\n",
       "L54272    28\n",
       "          ..\n",
       "L55634     1\n",
       "M21993     1\n",
       "M22136     1\n",
       "L56385     1\n",
       "L47817     1\n",
       "Name: count, Length: 9708, dtype: int64"
      ]
     },
     "execution_count": 38,
     "metadata": {},
     "output_type": "execute_result"
    }
   ],
   "source": [
    "contagem  = df[\"id_produto\"].value_counts()\n",
    "contagem"
   ]
  },
  {
   "cell_type": "code",
   "execution_count": 37,
   "id": "36c42ce6-7c11-456b-8b10-a91fc18a9831",
   "metadata": {},
   "outputs": [
    {
     "name": "stdout",
     "output_type": "stream",
     "text": [
      "Quantidade distintos: 9708\n"
     ]
    }
   ],
   "source": [
    "print(f'Quantidade distintos: {df[\"id_produto\"].nunique()}')"
   ]
  },
  {
   "cell_type": "code",
   "execution_count": 47,
   "id": "880add60-31cb-4074-95c0-5a1023b1cff4",
   "metadata": {},
   "outputs": [
    {
     "name": "stdout",
     "output_type": "stream",
     "text": [
      "Quantidade de máquinas que quebraram exatamente 0 vezes: 0\n",
      "Quantidade de máquinas que quebraram exatamente 1 vezes: 1637\n",
      "Quantidade de máquinas que quebraram exatamente 2 vezes: 2168\n",
      "Quantidade de máquinas que quebraram exatamente 3 vezes: 2000\n",
      "Quantidade de máquinas que quebraram exatamente 4 vezes: 1368\n",
      "Quantidade de máquinas que quebraram exatamente 5 vezes: 939\n",
      "Quantidade de máquinas que quebraram exatamente 6 vezes: 592\n",
      "Quantidade de máquinas que quebraram exatamente 7 vezes: 320\n",
      "Quantidade de máquinas que quebraram exatamente 8 vezes: 236\n",
      "Quantidade de máquinas que quebraram exatamente 9 vezes: 132\n",
      "Quantidade de máquinas que quebraram exatamente 10 vezes: 87\n",
      "Quantidade de máquinas que quebraram exatamente 11 vezes: 39\n",
      "Quantidade de máquinas que quebraram exatamente 12 vezes: 46\n",
      "Quantidade de máquinas que quebraram exatamente 13 vezes: 33\n",
      "Quantidade de máquinas que quebraram exatamente 14 vezes: 28\n",
      "Quantidade de máquinas que quebraram exatamente 15 vezes: 15\n",
      "Quantidade de máquinas que quebraram exatamente 16 vezes: 18\n",
      "Quantidade de máquinas que quebraram exatamente 17 vezes: 10\n",
      "Quantidade de máquinas que quebraram exatamente 18 vezes: 6\n",
      "Quantidade de máquinas que quebraram exatamente 19 vezes: 4\n",
      "Quantidade de máquinas que quebraram exatamente 20 vezes: 3\n",
      "Quantidade de máquinas que quebraram exatamente 21 vezes: 6\n",
      "Quantidade de máquinas que quebraram exatamente 22 vezes: 7\n",
      "Quantidade de máquinas que quebraram exatamente 23 vezes: 2\n",
      "Quantidade de máquinas que quebraram exatamente 24 vezes: 0\n",
      "Quantidade de máquinas que quebraram exatamente 25 vezes: 1\n",
      "Quantidade de máquinas que quebraram exatamente 26 vezes: 5\n",
      "Quantidade de máquinas que quebraram exatamente 27 vezes: 1\n",
      "Quantidade de máquinas que quebraram exatamente 28 vezes: 3\n",
      "Quantidade de máquinas que quebraram exatamente 29 vezes: 0\n"
     ]
    }
   ],
   "source": [
    "for i in range(30):\n",
    "    qtd = (contagem == i).sum()\n",
    "    print(f\"Quantidade de máquinas que quebraram exatamente {i} vezes: {qtd}\")\n"
   ]
  },
  {
   "cell_type": "markdown",
   "id": "509023ee-d636-480a-bbd3-95ced31a5100",
   "metadata": {},
   "source": [
    "### Tipo\n",
    "\n",
    "A coluna **tipo** mostrou consistente já que esperamos que tivesse somente trẽs tipos de valores."
   ]
  },
  {
   "cell_type": "code",
   "execution_count": 18,
   "id": "0c9302b1-8e5e-44e8-b019-e1fd73ed2d4f",
   "metadata": {},
   "outputs": [
    {
     "data": {
      "text/plain": [
       "tipo\n",
       "L    23855\n",
       "M     8799\n",
       "H     2606\n",
       "Name: count, dtype: int64"
      ]
     },
     "execution_count": 18,
     "metadata": {},
     "output_type": "execute_result"
    }
   ],
   "source": [
    "df[\"tipo\"].value_counts()"
   ]
  },
  {
   "cell_type": "markdown",
   "id": "58cea07e-e6cf-4438-b624-0ad020f0d039",
   "metadata": {},
   "source": [
    "### Temperatura do AR"
   ]
  },
  {
   "cell_type": "code",
   "execution_count": 20,
   "id": "1ddf1f37-3c82-40c0-9df3-022572ec29fd",
   "metadata": {},
   "outputs": [
    {
     "data": {
      "text/plain": [
       "count    34644.000000\n",
       "mean       269.535241\n",
       "std         96.342224\n",
       "min        -36.000000\n",
       "25%        297.900000\n",
       "50%        299.600000\n",
       "75%        301.100000\n",
       "max        304.500000\n",
       "Name: temperatura_ar, dtype: float64"
      ]
     },
     "execution_count": 20,
     "metadata": {},
     "output_type": "execute_result"
    }
   ],
   "source": [
    "df[\"temperatura_ar\"].describe()"
   ]
  },
  {
   "cell_type": "code",
   "execution_count": 65,
   "id": "89b20198-9b3c-43f5-aac3-363245e8d18d",
   "metadata": {},
   "outputs": [
    {
     "data": {
      "text/plain": [
       "count    34644.000000\n",
       "mean        26.725248\n",
       "std          1.806641\n",
       "min         22.150000\n",
       "25%         25.250000\n",
       "50%         26.450000\n",
       "75%         27.950000\n",
       "max         31.350000\n",
       "Name: temperatura_ar, dtype: float64"
      ]
     },
     "execution_count": 65,
     "metadata": {},
     "output_type": "execute_result"
    }
   ],
   "source": [
    "# Transforma em celsius para facilitar\n",
    "cel = df[\"temperatura_ar\"] - 273.15\n",
    "cel.describe()"
   ]
  },
  {
   "cell_type": "markdown",
   "id": "03a2f609-baf0-457b-8eb9-fd6a3b26b59b",
   "metadata": {},
   "source": [
    "Não faz sentindo o valor da temperatura mímina, faz necessário verificar se não é valor default"
   ]
  },
  {
   "cell_type": "code",
   "execution_count": 63,
   "id": "56f88e37-adf6-47b0-a032-a80b042fd584",
   "metadata": {},
   "outputs": [
    {
     "name": "stdout",
     "output_type": "stream",
     "text": [
      "3132\n",
      "3132\n"
     ]
    }
   ],
   "source": [
    "quantidade = (cel < -300).sum()\n",
    "print(quantidade)\n",
    "\n",
    "quantidade = (cel < 0).sum()\n",
    "print(quantidade)"
   ]
  },
  {
   "cell_type": "markdown",
   "id": "f300560b-a4e1-4d9c-989a-1ae239deb3e6",
   "metadata": {},
   "source": [
    "**Conclusão:** O valor da temperatura  -36 ºK é default, foi descidido que vamos sbstituir pela mediana"
   ]
  },
  {
   "cell_type": "code",
   "execution_count": 66,
   "id": "7addf23d-cc5f-487c-bbdf-f12a18abca63",
   "metadata": {},
   "outputs": [
    {
     "data": {
      "text/plain": [
       "count    34644.000000\n",
       "mean        26.725248\n",
       "std          1.806641\n",
       "min         22.150000\n",
       "25%         25.250000\n",
       "50%         26.450000\n",
       "75%         27.950000\n",
       "max         31.350000\n",
       "Name: temperatura_ar, dtype: float64"
      ]
     },
     "execution_count": 66,
     "metadata": {},
     "output_type": "execute_result"
    }
   ],
   "source": [
    "# Substituir por mediana\n",
    "mediana = df['temperatura_ar'].median()\n",
    "df.loc[(df['temperatura_ar'] < 273) | (df['temperatura_ar'] > 323), 'temperatura_ar'] = mediana\n",
    "cel = df[\"temperatura_ar\"] - 273.15\n",
    "cel.describe()"
   ]
  },
  {
   "cell_type": "code",
   "execution_count": null,
   "id": "56dd8787-28e4-4e44-a03f-9827d7282c32",
   "metadata": {},
   "outputs": [],
   "source": []
  }
 ],
 "metadata": {
  "kernelspec": {
   "display_name": "Python 3 (ipykernel)",
   "language": "python",
   "name": "python3"
  },
  "language_info": {
   "codemirror_mode": {
    "name": "ipython",
    "version": 3
   },
   "file_extension": ".py",
   "mimetype": "text/x-python",
   "name": "python",
   "nbconvert_exporter": "python",
   "pygments_lexer": "ipython3",
   "version": "3.11.2"
  }
 },
 "nbformat": 4,
 "nbformat_minor": 5
}
